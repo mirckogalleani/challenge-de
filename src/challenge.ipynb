{
 "cells": [
  {
   "cell_type": "markdown",
   "metadata": {},
   "source": [
    "## Descripción de solución"
   ]
  },
  {
   "cell_type": "markdown",
   "metadata": {},
   "source": [
    "En general la optimización de todos los ejercicios vario entre la utilización de diferentes estructuras de datos viendo los tradeoff de cada una y maneras mas eficientes de iterar ciclos, sabiendo que existen mas técnicas para la optimización como por ejemplo estructuras de datos distribuidas utilizando frameworks de cómputo distribuido como por ejemplo Apache Spark considerando así mas recursos en infraestructura pero para el tamaño de archivo entregado es sobreingeniería. Lo mismo ocurre por ejemplo con técnicas de optimización como chunk processing o memory swapping."
   ]
  },
  {
   "cell_type": "markdown",
   "metadata": {},
   "source": [
    "## Suposiciones\n",
    "*   El tamaño de los archivos que procesa siguen el mismo tamaño de la prueba otorgada\n",
    "*   Como objetivo se buscó optimizar a nivel de estructuras de datos considerando el tiempo total otorgado para realizar el código\n",
    "*   La estructura del objeto twitter y de user fue interpretado debido a que la documentación otorgada está desactualizada y muestra el objeto twitter actual que es totalmente diferente al entregado\n",
    "*   La infraestructura para ejecutar el código es monolítica"
   ]
  },
  {
   "cell_type": "markdown",
   "metadata": {},
   "source": [
    "### Setting environment variables"
   ]
  },
  {
   "cell_type": "code",
   "execution_count": 7,
   "metadata": {},
   "outputs": [],
   "source": [
    "import os\n",
    "\n",
    "os.environ['FILE_PATH'] = 'D:\\\\Development\\\\thoughtworks\\\\latam\\\\tweets\\\\farmers-protest-tweets-2021-2-4.json'"
   ]
  },
  {
   "cell_type": "markdown",
   "metadata": {},
   "source": [
    "### **Las top 10 fechas donde hay más tweets. Mencionar el usuario (username) que más publicaciones tiene por cada uno de esos días.**"
   ]
  },
  {
   "cell_type": "markdown",
   "metadata": {},
   "source": [
    "#### Q1 MEMORY"
   ]
  },
  {
   "cell_type": "code",
   "execution_count": null,
   "metadata": {},
   "outputs": [],
   "source": [
    "file_path = os.environ['FILE_PATH']\n",
    "\n",
    "from q1_memory import q1_memory\n",
    "import cProfile\n",
    "cProfile.run('result_q1_memory= q1_memory(file_path=file_path)',sort='tottime')"
   ]
  },
  {
   "cell_type": "markdown",
   "metadata": {},
   "source": [
    "##### Output"
   ]
  },
  {
   "cell_type": "code",
   "execution_count": null,
   "metadata": {},
   "outputs": [],
   "source": [
    "for date, user in result_q1_memory:\n",
    "    print(f'{date}, {user}')"
   ]
  },
  {
   "cell_type": "markdown",
   "metadata": {},
   "source": [
    "#### Q1 TIME"
   ]
  },
  {
   "cell_type": "code",
   "execution_count": null,
   "metadata": {},
   "outputs": [],
   "source": [
    "file_path = os.environ['FILE_PATH']\n",
    "\n",
    "from q1_time import q1_time\n",
    "import cProfile\n",
    "cProfile.run('result_q1_time= q1_time(file_path=file_path)',sort='tottime')"
   ]
  },
  {
   "cell_type": "markdown",
   "metadata": {},
   "source": [
    "##### Output"
   ]
  },
  {
   "cell_type": "code",
   "execution_count": null,
   "metadata": {},
   "outputs": [],
   "source": [
    "for date, user in result_q1_time:\n",
    "    print(f'{date}, {user}')"
   ]
  },
  {
   "cell_type": "markdown",
   "metadata": {},
   "source": [
    "### **2. Los top 10 emojis más usados con su respectivo conteo.**"
   ]
  },
  {
   "cell_type": "markdown",
   "metadata": {},
   "source": [
    "#### Q2 MEMORY"
   ]
  },
  {
   "cell_type": "code",
   "execution_count": null,
   "metadata": {},
   "outputs": [],
   "source": [
    "file_path = os.environ['FILE_PATH']\n",
    "\n",
    "from q2_memory import q2_memory\n",
    "import cProfile\n",
    "\n",
    "cProfile.run('result_q2_memory= q2_memory(file_path=file_path)',sort='tottime')"
   ]
  },
  {
   "cell_type": "markdown",
   "metadata": {},
   "source": [
    "##### Output"
   ]
  },
  {
   "cell_type": "code",
   "execution_count": null,
   "metadata": {},
   "outputs": [],
   "source": [
    "for emoji, count in result_q2_memory:\n",
    "    print(f'{emoji}, {count}')"
   ]
  },
  {
   "cell_type": "markdown",
   "metadata": {},
   "source": [
    "#### Q2 TIME"
   ]
  },
  {
   "cell_type": "code",
   "execution_count": null,
   "metadata": {},
   "outputs": [],
   "source": [
    "file_path = os.environ['FILE_PATH']\n",
    "\n",
    "from q2_time import q2_time\n",
    "import cProfile\n",
    "\n",
    "cProfile.run('result_q2_time= q2_time(file_path=file_path)',sort='tottime')"
   ]
  },
  {
   "cell_type": "markdown",
   "metadata": {},
   "source": [
    "##### Output"
   ]
  },
  {
   "cell_type": "code",
   "execution_count": null,
   "metadata": {},
   "outputs": [],
   "source": [
    "for emoji, count in result_q2_time:\n",
    "    print(f'{emoji}, {count}')"
   ]
  },
  {
   "cell_type": "markdown",
   "metadata": {},
   "source": [
    "### **3. El top 10 histórico de usuarios (username) más influyentes en función del conteo de las menciones (@) que registra cada uno de ellos.**"
   ]
  },
  {
   "cell_type": "markdown",
   "metadata": {},
   "source": [
    "#### Q3 MEMORY"
   ]
  },
  {
   "cell_type": "code",
   "execution_count": null,
   "metadata": {},
   "outputs": [],
   "source": [
    "file_path = os.environ['FILE_PATH']\n",
    "\n",
    "from q3_memory import q3_memory\n",
    "import cProfile\n",
    "\n",
    "cProfile.run('result_q3_memory= q3_memory(file_path=file_path)',sort='tottime')"
   ]
  },
  {
   "cell_type": "markdown",
   "metadata": {},
   "source": [
    "##### Output"
   ]
  },
  {
   "cell_type": "code",
   "execution_count": null,
   "metadata": {},
   "outputs": [],
   "source": [
    "for user, count in result_q3_memory:\n",
    "    print(f'{user}, {count}')"
   ]
  },
  {
   "cell_type": "markdown",
   "metadata": {},
   "source": [
    "#### Q3 TIME"
   ]
  },
  {
   "cell_type": "code",
   "execution_count": null,
   "metadata": {},
   "outputs": [],
   "source": [
    "file_path = os.environ['FILE_PATH']\n",
    "\n",
    "from q3_time import q3_time\n",
    "import cProfile\n",
    "\n",
    "cProfile.run('result_q3_time= q3_time(file_path=file_path)',sort='tottime')\n"
   ]
  },
  {
   "cell_type": "markdown",
   "metadata": {},
   "source": [
    "##### Output"
   ]
  },
  {
   "cell_type": "code",
   "execution_count": null,
   "metadata": {},
   "outputs": [],
   "source": [
    "for user, count in result_q3_time:\n",
    "    print(f'{user}, {count}')"
   ]
  }
 ],
 "metadata": {
  "kernelspec": {
   "display_name": "latam_challenge_venv",
   "language": "python",
   "name": "python3"
  },
  "language_info": {
   "codemirror_mode": {
    "name": "ipython",
    "version": 3
   },
   "file_extension": ".py",
   "mimetype": "text/x-python",
   "name": "python",
   "nbconvert_exporter": "python",
   "pygments_lexer": "ipython3",
   "version": "3.11.6"
  },
  "orig_nbformat": 4
 },
 "nbformat": 4,
 "nbformat_minor": 2
}
