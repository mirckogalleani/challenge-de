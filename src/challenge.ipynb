{
 "cells": [
  {
   "cell_type": "markdown",
   "metadata": {},
   "source": [
    "En este archivo puedes escribir lo que estimes conveniente. Te recomendamos detallar tu solución y todas las suposiciones que estás considerando. Aquí puedes ejecutar las funciones que definiste en los otros archivos de la carpeta src, medir el tiempo, memoria, etc."
   ]
  },
  {
   "cell_type": "code",
   "execution_count": null,
   "metadata": {},
   "outputs": [],
   "source": [
    "file_path = \"D:\\\\Development\\\\thoughtworks\\\\latam\\\\tweets\\\\farmers-protest-tweets-2021-2-4.json\"\n",
    "\n",
    "from q1_memory import q1_memory\n",
    "import cProfile\n",
    "cProfile.run('result_q1_memory= q1_memory(file_path=file_path)',sort='tottime')\n",
    "\n",
    "for date, user in result_q1_memory:\n",
    "    print(f'{date}, {user}')"
   ]
  },
  {
   "cell_type": "code",
   "execution_count": null,
   "metadata": {},
   "outputs": [],
   "source": [
    "file_path = \"D:\\\\Development\\\\thoughtworks\\\\latam\\\\tweets\\\\farmers-protest-tweets-2021-2-4.json\"\n",
    "\n",
    "from q1_time import q1_time\n",
    "import cProfile\n",
    "cProfile.run('result_q1_time= q1_time(file_path=file_path)',sort='tottime')\n",
    "\n",
    "for date, user in result_q1_time:\n",
    "    print(f'{date}, {user}')"
   ]
  },
  {
   "cell_type": "code",
   "execution_count": null,
   "metadata": {},
   "outputs": [],
   "source": [
    "file_path = \"D:\\\\Development\\\\thoughtworks\\\\latam\\\\tweets\\\\farmers-protest-tweets-2021-2-4.json\"\n",
    "\n",
    "from q2_memory import q2_memory\n",
    "import cProfile\n",
    "\n",
    "cProfile.run('result_q2_memory= q2_memory(file_path=file_path)',sort='tottime')\n",
    "\n",
    "for emoji, count in result_q2_memory:\n",
    "    print(f'{emoji}, {count}')"
   ]
  },
  {
   "cell_type": "code",
   "execution_count": null,
   "metadata": {},
   "outputs": [],
   "source": [
    "file_path = \"D:\\\\Development\\\\thoughtworks\\\\latam\\\\tweets\\\\farmers-protest-tweets-2021-2-4.json\"\n",
    "\n",
    "from q2_time import q2_time\n",
    "import cProfile\n",
    "\n",
    "cProfile.run('result_q2_time= q2_time(file_path=file_path)',sort='tottime')\n",
    "\n",
    "for emoji, count in result_q2_time:\n",
    "    print(f'{emoji}, {count}')"
   ]
  }
 ],
 "metadata": {
  "kernelspec": {
   "display_name": "latam_challenge_venv",
   "language": "python",
   "name": "python3"
  },
  "language_info": {
   "codemirror_mode": {
    "name": "ipython",
    "version": 3
   },
   "file_extension": ".py",
   "mimetype": "text/x-python",
   "name": "python",
   "nbconvert_exporter": "python",
   "pygments_lexer": "ipython3",
   "version": "3.11.6"
  },
  "orig_nbformat": 4
 },
 "nbformat": 4,
 "nbformat_minor": 2
}
